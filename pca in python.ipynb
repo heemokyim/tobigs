{
 "cells": [
  {
   "cell_type": "markdown",
   "metadata": {},
   "source": [
    "#### 과제"
   ]
  },
  {
   "cell_type": "code",
   "execution_count": 2,
   "metadata": {
    "collapsed": true
   },
   "outputs": [
    {
     "name": "stderr",
     "output_type": "stream",
     "text": [
      "/home/nbuser/anaconda3_501/lib/python3.6/importlib/_bootstrap.py:219: RuntimeWarning: numpy.dtype size changed, may indicate binary incompatibility. Expected 96, got 88\n",
      "  return f(*args, **kwds)\n",
      "/home/nbuser/anaconda3_501/lib/python3.6/importlib/_bootstrap.py:219: RuntimeWarning: numpy.dtype size changed, may indicate binary incompatibility. Expected 96, got 88\n",
      "  return f(*args, **kwds)\n"
     ]
    }
   ],
   "source": [
    "import pandas as pd\n",
    "import time"
   ]
  },
  {
   "cell_type": "code",
   "execution_count": 1,
   "metadata": {
    "collapsed": true
   },
   "outputs": [
    {
     "name": "stderr",
     "output_type": "stream",
     "text": [
      "/home/nbuser/anaconda3_501/lib/python3.6/importlib/_bootstrap.py:219: RuntimeWarning: numpy.dtype size changed, may indicate binary incompatibility. Expected 96, got 88\n",
      "  return f(*args, **kwds)\n",
      "/home/nbuser/anaconda3_501/lib/python3.6/importlib/_bootstrap.py:219: RuntimeWarning: numpy.dtype size changed, may indicate binary incompatibility. Expected 96, got 88\n",
      "  return f(*args, **kwds)\n",
      "/home/nbuser/anaconda3_501/lib/python3.6/importlib/_bootstrap.py:219: RuntimeWarning: numpy.dtype size changed, may indicate binary incompatibility. Expected 96, got 88\n",
      "  return f(*args, **kwds)\n",
      "/home/nbuser/anaconda3_501/lib/python3.6/importlib/_bootstrap.py:219: RuntimeWarning: numpy.dtype size changed, may indicate binary incompatibility. Expected 96, got 88\n",
      "  return f(*args, **kwds)\n"
     ]
    }
   ],
   "source": [
    "from sklearn.datasets import load_digits\n",
    "train = load_digits()\n",
    "# kaggle mnist 는 너무 오래 걸려서 쉬운 친구로 데려왔습니다"
   ]
  },
  {
   "cell_type": "code",
   "execution_count": 4,
   "metadata": {},
   "outputs": [
    {
     "data": {
      "text/plain": [
       "(1797, 64)"
      ]
     },
     "execution_count": 4,
     "metadata": {},
     "output_type": "execute_result"
    }
   ],
   "source": [
    "train.data.shape"
   ]
  },
  {
   "cell_type": "code",
   "execution_count": 5,
   "metadata": {
    "collapsed": true
   },
   "outputs": [
    {
     "name": "stderr",
     "output_type": "stream",
     "text": [
      "/home/nbuser/anaconda3_501/lib/python3.6/importlib/_bootstrap.py:219: RuntimeWarning: numpy.dtype size changed, may indicate binary incompatibility. Expected 96, got 88\n",
      "  return f(*args, **kwds)\n",
      "/home/nbuser/anaconda3_501/lib/python3.6/site-packages/sklearn/ensemble/weight_boosting.py:29: DeprecationWarning: numpy.core.umath_tests is an internal NumPy module and should not be imported. It will be removed in a future NumPy release.\n",
      "  from numpy.core.umath_tests import inner1d\n"
     ]
    }
   ],
   "source": [
    "from sklearn.model_selection import train_test_split\n",
    "from sklearn.decomposition import PCA\n",
    "from sklearn.ensemble import RandomForestClassifier\n",
    "from sklearn.linear_model import LogisticRegression\n"
   ]
  },
  {
   "cell_type": "code",
   "execution_count": 6,
   "metadata": {},
   "outputs": [],
   "source": [
    "#1) MNIST 데이터를 로드하고 train - testset으로 분할하세요. (6:1 비율입니다)\n",
    "train_data = train.values\n",
    "X_train, X_test, y_train, y_test = train_test_split(train.data, train.target, test_size=1/7, random_state=0)\n"
   ]
  },
  {
   "cell_type": "code",
   "execution_count": 7,
   "metadata": {},
   "outputs": [
    {
     "name": "stdout",
     "output_type": "stream",
     "text": [
      "3.63019061088562\n"
     ]
    }
   ],
   "source": [
    "#2) 이 데이터셋에 RF 분류기와 로지스틱회귀를 훈련시키고 얼마나 오래 걸리는 지 타임스탬프를 찍은 후 테스트 셋을 평가합니다.\n",
    "start = time.time()\n",
    "forest = RandomForestClassifier(n_estimators=500)\n",
    "forest = forest.fit(X_train, y_train)\n",
    "end = time.time()\n",
    "a = end - start\n",
    "print(a)"
   ]
  },
  {
   "cell_type": "code",
   "execution_count": 8,
   "metadata": {},
   "outputs": [
    {
     "name": "stdout",
     "output_type": "stream",
     "text": [
      "0.5188121795654297\n"
     ]
    }
   ],
   "source": [
    "start = time.time()\n",
    "logistic = LogisticRegression()\n",
    "logistic = logistic.fit(X_train, y_train)\n",
    "end = time.time()\n",
    "b = end - start\n",
    "print(b)"
   ]
  },
  {
   "cell_type": "code",
   "execution_count": 9,
   "metadata": {},
   "outputs": [],
   "source": [
    "#3) 그 다음 PCA로 설명된 분산이 96%가 되도록 차원을 축소하고,\n",
    "pca = PCA(n_components=0.96)\n",
    "X_redu_train = pca.fit_transform(X_train)"
   ]
  },
  {
   "cell_type": "code",
   "execution_count": 10,
   "metadata": {},
   "outputs": [
    {
     "name": "stdout",
     "output_type": "stream",
     "text": [
      "7.11859917640686\n"
     ]
    }
   ],
   "source": [
    "#4) 축소된 데이터 셋으로 새로운 RF 분류기/소프트맥스 분류기를 훈련시켜 타임스탬프를 찍습니다.\n",
    "start = time.time()\n",
    "forest = RandomForestClassifier(n_estimators=500)\n",
    "forest = forest.fit(X_redu_train, y_train)\n",
    "end = time.time()\n",
    "c = end - start\n",
    "print(c)"
   ]
  },
  {
   "cell_type": "code",
   "execution_count": 11,
   "metadata": {},
   "outputs": [
    {
     "name": "stdout",
     "output_type": "stream",
     "text": [
      "0.4386458396911621\n"
     ]
    }
   ],
   "source": [
    "start = time.time()\n",
    "logistic = LogisticRegression()\n",
    "logistic = logistic.fit(X_redu_train, y_train)\n",
    "end = time.time()\n",
    "d = end - start\n",
    "print(d)"
   ]
  },
  {
   "cell_type": "code",
   "execution_count": 23,
   "metadata": {},
   "outputs": [
    {
     "name": "stdout",
     "output_type": "stream",
     "text": [
      "model            pca X\n",
      "------------  --------\n",
      "randomforest  3.63019\n",
      "logistic      0.518812\n",
      "\n",
      "\n",
      "model            pca O\n",
      "------------  --------\n",
      "randomforest  7.1186\n",
      "logistic      0.438646\n"
     ]
    }
   ],
   "source": [
    "#5) 훈련속도를 비교하는 table을 만들어주세요!\n",
    "from tabulate import tabulate\n",
    "print (tabulate([[\"randomforest\", a], [\"logistic\", b]], headers = [\"model\", \"pca X\"] ) )\n",
    "print(\"\\n\")\n",
    "print (tabulate([[\"randomforest\", c], [\"logistic\", d]], headers = [\"model\", \"pca O\"] ) )\n"
   ]
  },
  {
   "cell_type": "code",
   "execution_count": 13,
   "metadata": {},
   "outputs": [],
   "source": []
  },
  {
   "cell_type": "code",
   "execution_count": null,
   "metadata": {},
   "outputs": [],
   "source": []
  }
 ],
 "metadata": {
  "kernelspec": {
   "display_name": "Python 3.6",
   "language": "python",
   "name": "python36"
  },
  "language_info": {
   "codemirror_mode": {
    "name": "ipython",
    "version": 3
   },
   "file_extension": ".py",
   "mimetype": "text/x-python",
   "name": "python",
   "nbconvert_exporter": "python",
   "pygments_lexer": "ipython3",
   "version": "3.6.3"
  }
 },
 "nbformat": 4,
 "nbformat_minor": 2
}
