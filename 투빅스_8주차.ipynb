{
  "nbformat": 4,
  "nbformat_minor": 0,
  "metadata": {
    "colab": {
      "name": "투빅스 8주차.ipynb",
      "version": "0.3.2",
      "provenance": [],
      "collapsed_sections": [],
      "include_colab_link": true
    },
    "kernelspec": {
      "name": "python3",
      "display_name": "Python 3"
    },
    "accelerator": "GPU"
  },
  "cells": [
    {
      "cell_type": "markdown",
      "metadata": {
        "id": "view-in-github",
        "colab_type": "text"
      },
      "source": [
        "[View in Colaboratory](https://colab.research.google.com/github/serereuk/tobigs/blob/master/%ED%88%AC%EB%B9%85%EC%8A%A4_8%EC%A3%BC%EC%B0%A8.ipynb)"
      ]
    },
    {
      "metadata": {
        "id": "iR4nO3YGTeLR",
        "colab_type": "code",
        "colab": {
          "base_uri": "https://localhost:8080/",
          "height": 207
        },
        "outputId": "11ed88c9-b0b0-4764-97c7-d792be73a94d"
      },
      "cell_type": "code",
      "source": [
        "!apt-get install -y -qq software-properties-common python-software-properties module-init-tools\n",
        "!add-apt-repository -y ppa:alessandro-strada/ppa 2>&1 > /dev/null\n",
        "!apt-get update -qq 2>&1 > /dev/null\n",
        "!apt-get -y install -qq google-drive-ocamlfuse fuse\n",
        "from google.colab import auth\n",
        "auth.authenticate_user()\n",
        "from oauth2client.client import GoogleCredentials\n",
        "creds = GoogleCredentials.get_application_default()\n",
        "import getpass\n",
        "!google-drive-ocamlfuse -headless -id={creds.client_id} -secret={creds.client_secret} < /dev/null 2>&1 | grep URL\n",
        "vcode = getpass.getpass()\n",
        "!echo {vcode} | google-drive-ocamlfuse -headless -id={creds.client_id} -secret={creds.client_secret}"
      ],
      "execution_count": 3,
      "outputs": [
        {
          "output_type": "stream",
          "text": [
            "gpg: keybox '/tmp/tmpz312atms/pubring.gpg' created\n",
            "gpg: /tmp/tmpz312atms/trustdb.gpg: trustdb created\n",
            "gpg: key AD5F235DF639B041: public key \"Launchpad PPA for Alessandro Strada\" imported\n",
            "gpg: Total number processed: 1\n",
            "gpg:               imported: 1\n",
            "Warning: apt-key output should not be parsed (stdout is not a terminal)\n",
            "Please, open the following URL in a web browser: https://accounts.google.com/o/oauth2/auth?client_id=32555940559.apps.googleusercontent.com&redirect_uri=urn%3Aietf%3Awg%3Aoauth%3A2.0%3Aoob&scope=https%3A%2F%2Fwww.googleapis.com%2Fauth%2Fdrive&response_type=code&access_type=offline&approval_prompt=force\n",
            "··········\n",
            "Please, open the following URL in a web browser: https://accounts.google.com/o/oauth2/auth?client_id=32555940559.apps.googleusercontent.com&redirect_uri=urn%3Aietf%3Awg%3Aoauth%3A2.0%3Aoob&scope=https%3A%2F%2Fwww.googleapis.com%2Fauth%2Fdrive&response_type=code&access_type=offline&approval_prompt=force\n",
            "Please enter the verification code: Access token retrieved correctly.\n"
          ],
          "name": "stdout"
        }
      ]
    },
    {
      "metadata": {
        "id": "h9jbEVz_19k9",
        "colab_type": "code",
        "colab": {}
      },
      "cell_type": "code",
      "source": [
        "!mkdir -p drive\n",
        "!google-drive-ocamlfuse drive"
      ],
      "execution_count": 0,
      "outputs": []
    },
    {
      "metadata": {
        "id": "xviMWHP-Mx0C",
        "colab_type": "code",
        "colab": {
          "base_uri": "https://localhost:8080/",
          "height": 85
        },
        "outputId": "846efa2d-9e88-46cd-a591-423ae602f881"
      },
      "cell_type": "code",
      "source": [
        "!ls -ltr"
      ],
      "execution_count": 5,
      "outputs": [
        {
          "output_type": "stream",
          "text": [
            "total 12\n",
            "drwxr-xr-x 2 root root 4096 Sep  6 17:46 sample_data\n",
            "-rw-r--r-- 1 root root 2550 Sep 10 11:15 adc.json\n",
            "drwxr-xr-x 2 root root 4096 Sep 10 11:32 drive\n"
          ],
          "name": "stdout"
        }
      ]
    },
    {
      "metadata": {
        "id": "t9vTWSz4NiHu",
        "colab_type": "code",
        "colab": {
          "base_uri": "https://localhost:8080/",
          "height": 34
        },
        "outputId": "824161d8-da43-4b62-b626-1282d545eed0"
      },
      "cell_type": "code",
      "source": [
        "%cd drive"
      ],
      "execution_count": 6,
      "outputs": [
        {
          "output_type": "stream",
          "text": [
            "/content/drive\n"
          ],
          "name": "stdout"
        }
      ]
    },
    {
      "metadata": {
        "id": "tUKbBWgSNl_V",
        "colab_type": "code",
        "colab": {
          "base_uri": "https://localhost:8080/",
          "height": 119
        },
        "outputId": "d1837da6-990a-4f5c-db04-2b15b27243cf"
      },
      "cell_type": "code",
      "source": [
        "!ls -ltr"
      ],
      "execution_count": 7,
      "outputs": [
        {
          "output_type": "stream",
          "text": [
            "total 26\n",
            "drwxr-xr-x 2 root root 4096 Aug 31 03:03 Colab Notebooks\n",
            "drwxr-xr-x 2 root root 4096 Sep 10 02:35 제목없는 폴더\n",
            "drwxr-xr-x 2 root root 4096 Sep 10 02:41 Dataset\n",
            "-rw-r--r-- 1 root root 7643 Sep 10 10:48 Building Classifier.ipynb\n",
            "-rw-r--r-- 1 root root 5716 Sep 10 11:31 Untitled0.ipynb\n"
          ],
          "name": "stdout"
        }
      ]
    },
    {
      "metadata": {
        "id": "0hOuw4zdNnaF",
        "colab_type": "code",
        "colab": {
          "base_uri": "https://localhost:8080/",
          "height": 34
        },
        "outputId": "362af534-e5b0-4a44-e65f-6404b8d17ee2"
      },
      "cell_type": "code",
      "source": [
        "from keras.preprocessing.image import ImageDataGenerator"
      ],
      "execution_count": 8,
      "outputs": [
        {
          "output_type": "stream",
          "text": [
            "Using TensorFlow backend.\n"
          ],
          "name": "stderr"
        }
      ]
    },
    {
      "metadata": {
        "id": "7b2EI1saPD0O",
        "colab_type": "code",
        "colab": {}
      },
      "cell_type": "code",
      "source": [
        "train_datagen = ImageDataGenerator()\n",
        "test_datagen = ImageDataGenerator()"
      ],
      "execution_count": 0,
      "outputs": []
    },
    {
      "metadata": {
        "id": "amr7M97EPGKq",
        "colab_type": "code",
        "colab": {
          "base_uri": "https://localhost:8080/",
          "height": 34
        },
        "outputId": "f579d74d-6315-4a48-8413-720981c4f394"
      },
      "cell_type": "code",
      "source": [
        "training_set = train_datagen.flow_from_directory('Dataset/train',\n",
        "target_size = (256,256),\n",
        "class_mode = 'categorical')"
      ],
      "execution_count": 10,
      "outputs": [
        {
          "output_type": "stream",
          "text": [
            "Found 24201 images belonging to 3 classes.\n"
          ],
          "name": "stdout"
        }
      ]
    },
    {
      "metadata": {
        "id": "Pt11aH3NPKPY",
        "colab_type": "code",
        "colab": {
          "base_uri": "https://localhost:8080/",
          "height": 34
        },
        "outputId": "4dc6be65-659d-4271-cfe4-922849326164"
      },
      "cell_type": "code",
      "source": [
        "test_set = test_datagen.flow_from_directory('Dataset/test',\n",
        "target_size = (256,256),                                            \n",
        "class_mode = 'categorical')"
      ],
      "execution_count": 11,
      "outputs": [
        {
          "output_type": "stream",
          "text": [
            "Found 70 images belonging to 3 classes.\n"
          ],
          "name": "stdout"
        }
      ]
    },
    {
      "metadata": {
        "id": "YanJljOjQoZY",
        "colab_type": "code",
        "colab": {}
      },
      "cell_type": "code",
      "source": [
        "import keras\n",
        "from keras.models import Sequential\n",
        "from keras.layers import Conv2D, MaxPooling2D, Flatten, Dense, BatchNormalization, Dropout"
      ],
      "execution_count": 0,
      "outputs": []
    },
    {
      "metadata": {
        "id": "hNbRiJMFRGby",
        "colab_type": "code",
        "colab": {}
      },
      "cell_type": "code",
      "source": [
        "custom = Sequential()"
      ],
      "execution_count": 0,
      "outputs": []
    },
    {
      "metadata": {
        "id": "caof3hcYRJNp",
        "colab_type": "code",
        "colab": {}
      },
      "cell_type": "code",
      "source": [
        "custom.add(Conv2D(filters = 32, \n",
        "                  kernel_size = (3,3),\n",
        "                  input_shape = (256,256,3),\n",
        "                  strides = (1,1),\n",
        "                  padding = 'same',\n",
        "                  activation = 'relu'))"
      ],
      "execution_count": 0,
      "outputs": []
    },
    {
      "metadata": {
        "id": "CaPqWdswR1R9",
        "colab_type": "code",
        "colab": {}
      },
      "cell_type": "code",
      "source": [
        "custom.add(MaxPooling2D(pool_size = (2, 2)))"
      ],
      "execution_count": 0,
      "outputs": []
    },
    {
      "metadata": {
        "id": "2iDE6qGJR_5z",
        "colab_type": "code",
        "colab": {}
      },
      "cell_type": "code",
      "source": [
        "custom.add(Conv2D(filters = 64, \n",
        "                  kernel_size = (3,3),\n",
        "                  input_shape = (256,256,3),\n",
        "                  strides = (1,1),\n",
        "                  padding = 'same',\n",
        "                  activation = 'relu'))"
      ],
      "execution_count": 0,
      "outputs": []
    },
    {
      "metadata": {
        "id": "-rGEB5JISHwV",
        "colab_type": "code",
        "colab": {}
      },
      "cell_type": "code",
      "source": [
        "custom.add(MaxPooling2D(pool_size = (2, 2)))"
      ],
      "execution_count": 0,
      "outputs": []
    },
    {
      "metadata": {
        "id": "Nn0SfNNlSJc7",
        "colab_type": "code",
        "colab": {}
      },
      "cell_type": "code",
      "source": [
        "custom.add(Conv2D(filters = 32, \n",
        "                  kernel_size = (3,3),\n",
        "                  input_shape = (256,256,3),\n",
        "                  strides = (1,1),\n",
        "                  padding = 'same',\n",
        "                  activation = 'relu'))"
      ],
      "execution_count": 0,
      "outputs": []
    },
    {
      "metadata": {
        "id": "8dYfNkp-SMWq",
        "colab_type": "code",
        "colab": {}
      },
      "cell_type": "code",
      "source": [
        "custom.add(Flatten())"
      ],
      "execution_count": 0,
      "outputs": []
    },
    {
      "metadata": {
        "id": "UeH2BFKZSOgk",
        "colab_type": "code",
        "colab": {}
      },
      "cell_type": "code",
      "source": [
        "custom.add(Dense(units = 500, activation = 'sigmoid'))"
      ],
      "execution_count": 0,
      "outputs": []
    },
    {
      "metadata": {
        "id": "DrASsYLGSTPP",
        "colab_type": "code",
        "colab": {}
      },
      "cell_type": "code",
      "source": [
        "custom.add(Dropout(0.5))"
      ],
      "execution_count": 0,
      "outputs": []
    },
    {
      "metadata": {
        "id": "cVetesduSWNT",
        "colab_type": "code",
        "colab": {}
      },
      "cell_type": "code",
      "source": [
        "custom.add(Dense(units = 3, activation = 'softmax'))"
      ],
      "execution_count": 0,
      "outputs": []
    },
    {
      "metadata": {
        "id": "owZVP6eFSZ_K",
        "colab_type": "code",
        "colab": {}
      },
      "cell_type": "code",
      "source": [
        "custom.compile(optimizer = 'Adam', loss = 'categorical_crossentropy')"
      ],
      "execution_count": 0,
      "outputs": []
    },
    {
      "metadata": {
        "id": "Z-oW8t2wScnn",
        "colab_type": "code",
        "colab": {
          "base_uri": "https://localhost:8080/",
          "height": 442
        },
        "outputId": "520732dd-7fd3-410d-b6d1-67f538bb3ee4"
      },
      "cell_type": "code",
      "source": [
        "custom.summary()"
      ],
      "execution_count": 40,
      "outputs": [
        {
          "output_type": "stream",
          "text": [
            "_________________________________________________________________\n",
            "Layer (type)                 Output Shape              Param #   \n",
            "=================================================================\n",
            "conv2d_4 (Conv2D)            (None, 256, 256, 32)      896       \n",
            "_________________________________________________________________\n",
            "max_pooling2d_3 (MaxPooling2 (None, 128, 128, 32)      0         \n",
            "_________________________________________________________________\n",
            "conv2d_5 (Conv2D)            (None, 128, 128, 64)      18496     \n",
            "_________________________________________________________________\n",
            "max_pooling2d_4 (MaxPooling2 (None, 64, 64, 64)        0         \n",
            "_________________________________________________________________\n",
            "conv2d_6 (Conv2D)            (None, 64, 64, 32)        18464     \n",
            "_________________________________________________________________\n",
            "flatten_2 (Flatten)          (None, 131072)            0         \n",
            "_________________________________________________________________\n",
            "dense_3 (Dense)              (None, 500)               65536500  \n",
            "_________________________________________________________________\n",
            "dropout_2 (Dropout)          (None, 500)               0         \n",
            "_________________________________________________________________\n",
            "dense_4 (Dense)              (None, 3)                 1503      \n",
            "=================================================================\n",
            "Total params: 65,575,859\n",
            "Trainable params: 65,575,859\n",
            "Non-trainable params: 0\n",
            "_________________________________________________________________\n"
          ],
          "name": "stdout"
        }
      ]
    },
    {
      "metadata": {
        "id": "DC7zo9onSezR",
        "colab_type": "code",
        "colab": {
          "base_uri": "https://localhost:8080/",
          "height": 374
        },
        "outputId": "c0ebc887-5c8f-45a5-cf70-56a046a5f2e2"
      },
      "cell_type": "code",
      "source": [
        "custom.fit_generator(training_set,\n",
        "                     epochs = 10,\n",
        "                     validation_data = test_set,\n",
        "                     steps_per_epoch = 10)"
      ],
      "execution_count": 41,
      "outputs": [
        {
          "output_type": "stream",
          "text": [
            "Epoch 1/10\n",
            "10/10 [==============================] - 239s 24s/step - loss: 1.9022 - val_loss: 1.9711\n",
            "Epoch 2/10\n",
            "10/10 [==============================] - 162s 16s/step - loss: 0.9629 - val_loss: 1.7143\n",
            "Epoch 3/10\n",
            "10/10 [==============================] - 211s 21s/step - loss: 1.1388 - val_loss: 1.2866\n",
            "Epoch 4/10\n",
            "10/10 [==============================] - 190s 19s/step - loss: 1.1054 - val_loss: 1.3485\n",
            "Epoch 5/10\n",
            "10/10 [==============================] - 189s 19s/step - loss: 0.9725 - val_loss: 1.4739\n",
            "Epoch 6/10\n",
            "10/10 [==============================] - 191s 19s/step - loss: 1.0828 - val_loss: 1.3831\n",
            "Epoch 7/10\n",
            "10/10 [==============================] - 188s 19s/step - loss: 0.9687 - val_loss: 1.3117\n",
            "Epoch 8/10\n",
            "10/10 [==============================] - 196s 20s/step - loss: 0.9548 - val_loss: 1.4132\n",
            "Epoch 9/10\n",
            "10/10 [==============================] - 200s 20s/step - loss: 0.9837 - val_loss: 1.4403\n",
            "Epoch 10/10\n",
            "10/10 [==============================] - 206s 21s/step - loss: 0.9875 - val_loss: 1.3587\n"
          ],
          "name": "stdout"
        },
        {
          "output_type": "execute_result",
          "data": {
            "text/plain": [
              "<keras.callbacks.History at 0x7f5af795f8d0>"
            ]
          },
          "metadata": {
            "tags": []
          },
          "execution_count": 41
        }
      ]
    },
    {
      "metadata": {
        "id": "UQP5fQtOSycR",
        "colab_type": "code",
        "colab": {}
      },
      "cell_type": "code",
      "source": [
        ""
      ],
      "execution_count": 0,
      "outputs": []
    },
    {
      "metadata": {
        "id": "bsbg51skXXMH",
        "colab_type": "text"
      },
      "cell_type": "markdown",
      "source": [
        "Q1. Input에 3*3 convolution filter 6개를 돌렸을 때(stride=1, padding=0) activation map의 dimension은? 그리고 이때 filter 6개의 depth는 몇 일까요?\n",
        "\n",
        "A1. activation map = [718, 1278, 6] depth = 3"
      ]
    },
    {
      "metadata": {
        "id": "MN8qJuSWXZgP",
        "colab_type": "text"
      },
      "cell_type": "markdown",
      "source": [
        "Q2. Input에 3*3 convolution filter 10개를 돌렸을 때(stride=1, padding=1) activation map의 dimension은? 그리고 이때 학습하는 총 weight는 몇 개일까요? (bias 제외)\n",
        "\n",
        "A2. 3 X 3 X 3 X 10 = 270"
      ]
    },
    {
      "metadata": {
        "id": "Tui9pS6FZLDV",
        "colab_type": "text"
      },
      "cell_type": "markdown",
      "source": [
        "Q3. Q2의 결과인 activation map에 1*1 convolution filter 5개를 돌렸을 때(stride=1, padding=0) activation map의 dimension은? 그리고 이때 filter 5개의 depth는 몇 일까요?\n",
        "\n",
        "A3. [720, 1280, 5] depth =10"
      ]
    },
    {
      "metadata": {
        "id": "CH4b3M5QZu1P",
        "colab_type": "text"
      },
      "cell_type": "markdown",
      "source": [
        "Q4. Q2의 결과인 activation map에 2*2 max pooling filter을 적용할 때 (stride=2) activation map의 dimension은?\n",
        "\n",
        "A4. [360, 640, 5] 조심스럽게 예상해봅니다\n",
        "\n"
      ]
    },
    {
      "metadata": {
        "id": "MmdUnCVCdSTU",
        "colab_type": "text"
      },
      "cell_type": "markdown",
      "source": [
        "1. ILSVRC / PASCAL VOC / MS COCO / Early Stopping / Transfer Learning / GPGPU\n",
        "\n",
        "\n",
        "\n",
        "*   ILSVRC = Imagenet Large Scale Visual Recognition Challenge  \n",
        "외국판 이미지 공모전인듯 하다 2010년부터 진행되어 오고 있다.\n",
        "*   PASCAL VOC =  Pattern Analysis Statistical Modelling and Computational Learning\n",
        "외국판 이미지 공모전2, 2005년부터 진행되어 오고 있다.\n",
        "*   MSCOCO = common objects in contexts\n",
        "이미지 segementation 공모전 \n",
        "*   Early Stopping = 오버피팅을 방지하기 위해서 적당히 학습이 된다고 판단되면 정지하는 기법\n",
        "*   Transfer Learning = 기존의 만들어진 모델을 사용하여 새로운 모델을 만들시 학습을 빠르게 하며, 예측을 더 높이는 방법입니다. 이유는 시간을 줄이고 효율성을 늘리기 위해서\n",
        "*   GPGPU = gpu 친구들 행렬 계산에 특화되어 있당 게임하고 싶습니다\n",
        "\n",
        "\n",
        "\n"
      ]
    },
    {
      "metadata": {
        "id": "ymqUC3lfnKQx",
        "colab_type": "text"
      },
      "cell_type": "markdown",
      "source": [
        "2. Alexnet의 정확한 Input size(227 or 224)를 구하고 그렇게 생각하는 이유에 대해 적어주세요. 그리고 그 모델을 Sequential Model로 구현해주세요."
      ]
    },
    {
      "metadata": {
        "id": "jAvTuXaKoxWM",
        "colab_type": "text"
      },
      "cell_type": "markdown",
      "source": [
        "사실 곰곰이 생각해보면 227이 맞다. 집에 가면서 stride랑 그런걸 계산해보니 55 차원이 나오려면 227이 나와야한다\n",
        "하지만  데이터 augmentation의 측면에서 수많은 데이터를 형성하기 위해서,  2048의 숫자를 맞추려면 224도 맞다. pytorch는 floor를 좋아해서 소수점을 버려서 나온 결과가 모델이 돌아갔당. 심심해서 텐서플로우 공부하는 겸 저자가 직접 만든 텐서플로우 코드를 확인해본 결과 227로 인풋을 넣었당. 저자도 문제점을 확인하고 고친 모양인듯하다."
      ]
    },
    {
      "metadata": {
        "id": "TsoOqRFSqKHr",
        "colab_type": "text"
      },
      "cell_type": "markdown",
      "source": [
        "Full (simplified) AlexNet architecture:\n",
        "[227x227x3] INPUT   \n",
        "[55x55x96] CONV1: 96 11x11 filters at stride 4, pad 0  \n",
        "[27x27x96] MAX POOL1: 3x3 filters at stride 2   \n",
        "[27x27x96] NORM1: Normalization layer  \n",
        "[27x27x256] CONV2: 256 5x5 filters at stride 1, pad 2   \n",
        "[13x13x256] MAX POOL2: 3x3 filters at stride 2     \n",
        "[13x13x256] NORM2: Normalization layer  \n",
        "[13x13x384] CONV3: 384 3x3 filters at stride 1, pad 1  \n",
        "[13x13x384] CONV4: 384 3x3 filters at stride 1, pad 1  \n",
        "[13x13x256] CONV5: 256 3x3 filters at stride 1, pad 1  \n",
        "[6x6x256] MAX POOL3: 3x3 filters at stride 2  \n",
        "[4096] FC6: 4096 neurons  \n",
        "[4096] FC7: 4096 neurons  \n",
        "[1000] FC8: 1000 neurons (class scores)  "
      ]
    },
    {
      "metadata": {
        "id": "lpGBpyXdYqt2",
        "colab_type": "code",
        "colab": {}
      },
      "cell_type": "code",
      "source": [
        "hi_alex = Sequential()"
      ],
      "execution_count": 0,
      "outputs": []
    },
    {
      "metadata": {
        "id": "cDNXM0zjpXD3",
        "colab_type": "code",
        "colab": {}
      },
      "cell_type": "code",
      "source": [
        "hi_alex.add(Conv2D(filters = 96, \n",
        "                  kernel_size = (11,11),\n",
        "                  input_shape = (227,227,3),\n",
        "                  strides = (4,4),\n",
        "                  padding = 'valid',\n",
        "                  activation = 'relu'))\n",
        "hi_alex.add(MaxPooling2D(pool_size = (2, 2), strides = (2,2)))\n",
        "hi_alex.add(keras.layers.ZeroPadding2D(padding=(2, 2))) # 패딩 사이즈 설정 아주 불편하다 그리워요 텐서플로우\n",
        "hi_alex.add(Conv2D(filters = 256, \n",
        "                  kernel_size = (5,5),\n",
        "                  input_shape = (31,31,96),\n",
        "                  strides = (1,1),\n",
        "                  padding = \"valid\",\n",
        "                  activation = 'relu'))\n",
        "hi_alex.add(MaxPooling2D(pool_size = (3, 3), strides = (2,2)))\n",
        "hi_alex.add(Conv2D(filters = 384, \n",
        "                  kernel_size = (3,3),\n",
        "                  input_shape = (13,13,192),\n",
        "                  strides = (1,1),\n",
        "                  padding = \"same\",\n",
        "                  activation = 'relu'))\n",
        "hi_alex.add(Conv2D(filters = 384, \n",
        "                  kernel_size = (3,3),\n",
        "                  input_shape = (13,13,192),\n",
        "                  strides = (1,1),\n",
        "                  padding = \"same\",\n",
        "                  activation = 'relu'))\n",
        "hi_alex.add(Conv2D(filters = 256, \n",
        "                  kernel_size = (3,3),\n",
        "                  input_shape = (13,13,128),\n",
        "                  strides = (1,1),\n",
        "                  padding = \"same\",\n",
        "                  activation = 'relu'))\n",
        "hi_alex.add(MaxPooling2D(pool_size = (3, 3), strides = (2,2)))\n"
      ],
      "execution_count": 0,
      "outputs": []
    },
    {
      "metadata": {
        "id": "gsalsoqlq3kC",
        "colab_type": "code",
        "colab": {}
      },
      "cell_type": "code",
      "source": [
        "hi_alex.add(Flatten())\n",
        "hi_alex.add(Dense(units = 4096, activation = 'sigmoid'))\n",
        "hi_alex.add(Dense(units = 4096, activation = 'sigmoid'))\n",
        "hi_alex.add(Dense(units = 1000, activation = 'softmax'))"
      ],
      "execution_count": 0,
      "outputs": []
    },
    {
      "metadata": {
        "id": "PhcM37KPt5lo",
        "colab_type": "code",
        "colab": {
          "base_uri": "https://localhost:8080/",
          "height": 578
        },
        "outputId": "1add2b45-f3e3-4dc3-af91-1e0387f96c97"
      },
      "cell_type": "code",
      "source": [
        "hi_alex.summary()"
      ],
      "execution_count": 69,
      "outputs": [
        {
          "output_type": "stream",
          "text": [
            "_________________________________________________________________\n",
            "Layer (type)                 Output Shape              Param #   \n",
            "=================================================================\n",
            "conv2d_35 (Conv2D)           (None, 55, 55, 96)        34944     \n",
            "_________________________________________________________________\n",
            "max_pooling2d_21 (MaxPooling (None, 27, 27, 96)        0         \n",
            "_________________________________________________________________\n",
            "zero_padding2d_6 (ZeroPaddin (None, 31, 31, 96)        0         \n",
            "_________________________________________________________________\n",
            "conv2d_36 (Conv2D)           (None, 27, 27, 256)       614656    \n",
            "_________________________________________________________________\n",
            "max_pooling2d_22 (MaxPooling (None, 13, 13, 256)       0         \n",
            "_________________________________________________________________\n",
            "conv2d_37 (Conv2D)           (None, 13, 13, 384)       885120    \n",
            "_________________________________________________________________\n",
            "conv2d_38 (Conv2D)           (None, 13, 13, 384)       1327488   \n",
            "_________________________________________________________________\n",
            "conv2d_39 (Conv2D)           (None, 13, 13, 256)       884992    \n",
            "_________________________________________________________________\n",
            "max_pooling2d_23 (MaxPooling (None, 6, 6, 256)         0         \n",
            "_________________________________________________________________\n",
            "flatten_7 (Flatten)          (None, 9216)              0         \n",
            "_________________________________________________________________\n",
            "dense_17 (Dense)             (None, 4096)              37752832  \n",
            "_________________________________________________________________\n",
            "dense_18 (Dense)             (None, 4096)              16781312  \n",
            "_________________________________________________________________\n",
            "dense_19 (Dense)             (None, 1000)              4097000   \n",
            "=================================================================\n",
            "Total params: 62,378,344\n",
            "Trainable params: 62,378,344\n",
            "Non-trainable params: 0\n",
            "_________________________________________________________________\n"
          ],
          "name": "stdout"
        }
      ]
    },
    {
      "metadata": {
        "id": "4c1dfCNrt7li",
        "colab_type": "code",
        "colab": {}
      },
      "cell_type": "code",
      "source": [
        ""
      ],
      "execution_count": 0,
      "outputs": []
    }
  ]
}